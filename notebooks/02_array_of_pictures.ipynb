{
 "cells": [
  {
   "attachments": {},
   "cell_type": "markdown",
   "metadata": {},
   "source": [
    "# Pixel count of array of pictures\n",
    "\n",
    "Now, compared to the previous notebook I will test if I can count the pixels in an array of pictures. I created example pictures that have a predefined number of red and blue pixels as well as already pre-defined clusters (because the next step will be to count the clusters)."
   ]
  },
  {
   "cell_type": "code",
   "execution_count": 12,
   "metadata": {},
   "outputs": [
    {
     "data": {
      "text/plain": [
       "(2048, 2048, 3)"
      ]
     },
     "execution_count": 12,
     "metadata": {},
     "output_type": "execute_result"
    }
   ],
   "source": [
    "from PIL import Image\n",
    "import numpy as np\n",
    "from src.count_colors import count_colors\n",
    "\n",
    "image = Image.open('../images/Pos.Ctrl_well8_II.tif')\n",
    "# image.show() # Show the image in a new window\n",
    "\n",
    "image_array = np.array(image)\n",
    "image_array.shape # Shows the dimensions of the image\n",
    "# image_array.size # Shows the total number of pixels in the image"
   ]
  },
  {
   "cell_type": "code",
   "execution_count": 13,
   "metadata": {},
   "outputs": [
    {
     "name": "stdout",
     "output_type": "stream",
     "text": [
      "Red pixels: 3850\n",
      "Blue pixels: 4409\n"
     ]
    }
   ],
   "source": [
    "red_pixels, blue_pixels = count_colors(image_array)\n",
    "print(f\"Red pixels: {red_pixels}\")\n",
    "print(f\"Blue pixels: {blue_pixels}\")\n"
   ]
  },
  {
   "attachments": {},
   "cell_type": "markdown",
   "metadata": {},
   "source": [
    "## Test with an image with slight more red pixels\n",
    "\n",
    "I added another tiff with 60x60 pixels that are not 100% red."
   ]
  },
  {
   "cell_type": "code",
   "execution_count": 14,
   "metadata": {},
   "outputs": [
    {
     "name": "stdout",
     "output_type": "stream",
     "text": [
      "Red pixels: 7510\n",
      "Blue pixels: 4409\n"
     ]
    }
   ],
   "source": [
    "more_red_image = Image.open('../images/Pos.Ctrl_well8_II_more_red.tif')\n",
    "more_red_image_array = np.array(more_red_image)\n",
    "\n",
    "more_red_pixels, more_blue_pixels = count_colors(more_red_image_array)\n",
    "print(f\"Red pixels: {more_red_pixels}\")\n",
    "print(f\"Blue pixels: {more_blue_pixels}\")\n"
   ]
  }
 ],
 "metadata": {
  "kernelspec": {
   "display_name": ".venv",
   "language": "python",
   "name": "python3"
  },
  "language_info": {
   "codemirror_mode": {
    "name": "ipython",
    "version": 3
   },
   "file_extension": ".py",
   "mimetype": "text/x-python",
   "name": "python",
   "nbconvert_exporter": "python",
   "pygments_lexer": "ipython3",
   "version": "3.11.1"
  },
  "orig_nbformat": 4
 },
 "nbformat": 4,
 "nbformat_minor": 2
}
