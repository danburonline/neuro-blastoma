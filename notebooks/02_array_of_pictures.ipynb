{
 "cells": [
  {
   "attachments": {},
   "cell_type": "markdown",
   "metadata": {},
   "source": [
    "# Pixel count of array of pictures\n",
    "\n",
    "Now, compared to the previous notebook I will test if I can count the pixels in an array of pictures. I created example pictures that have a predefined number of red and blue pixels as well as already pre-defined clusters (because the next step will be to count the clusters)."
   ]
  },
  {
   "cell_type": "code",
   "execution_count": 1,
   "metadata": {},
   "outputs": [
    {
     "data": {
      "text/html": [
       "<div>\n",
       "<style scoped>\n",
       "    .dataframe tbody tr th:only-of-type {\n",
       "        vertical-align: middle;\n",
       "    }\n",
       "\n",
       "    .dataframe tbody tr th {\n",
       "        vertical-align: top;\n",
       "    }\n",
       "\n",
       "    .dataframe thead th {\n",
       "        text-align: right;\n",
       "    }\n",
       "</style>\n",
       "<table border=\"1\" class=\"dataframe\">\n",
       "  <thead>\n",
       "    <tr style=\"text-align: right;\">\n",
       "      <th></th>\n",
       "      <th>Image</th>\n",
       "      <th>Red Pixels</th>\n",
       "      <th>Blue Pixels</th>\n",
       "    </tr>\n",
       "  </thead>\n",
       "  <tbody>\n",
       "    <tr>\n",
       "      <th>0</th>\n",
       "      <td>002.png</td>\n",
       "      <td>15000</td>\n",
       "      <td>15000</td>\n",
       "    </tr>\n",
       "    <tr>\n",
       "      <th>1</th>\n",
       "      <td>003.png</td>\n",
       "      <td>15000</td>\n",
       "      <td>15000</td>\n",
       "    </tr>\n",
       "    <tr>\n",
       "      <th>2</th>\n",
       "      <td>001.png</td>\n",
       "      <td>15000</td>\n",
       "      <td>15000</td>\n",
       "    </tr>\n",
       "    <tr>\n",
       "      <th>3</th>\n",
       "      <td>004.png</td>\n",
       "      <td>15000</td>\n",
       "      <td>15000</td>\n",
       "    </tr>\n",
       "  </tbody>\n",
       "</table>\n",
       "</div>"
      ],
      "text/plain": [
       "     Image  Red Pixels  Blue Pixels\n",
       "0  002.png       15000        15000\n",
       "1  003.png       15000        15000\n",
       "2  001.png       15000        15000\n",
       "3  004.png       15000        15000"
      ]
     },
     "execution_count": 1,
     "metadata": {},
     "output_type": "execute_result"
    },
    {
     "data": {
      "image/png": "[encoded data removed]",
      "text/plain": [
       "<Figure size 1000x1000 with 4 Axes>"
      ]
     },
     "metadata": {},
     "output_type": "display_data"
    }
   ],
   "source": [
    "from PIL import Image\n",
    "import numpy as np\n",
    "import os\n",
    "import pandas as pd\n",
    "import matplotlib.pyplot as plt\n",
    "from src.count_colors import count_colors\n",
    "\n",
    "folder = '../images/test-images'\n",
    "image_files = [f for f in os.listdir(folder) if os.path.isfile(os.path.join(folder, f))]\n",
    "\n",
    "# create a list to store results\n",
    "results = []\n",
    "\n",
    "fig = plt.figure(figsize=(10, 10)) # change figure size as needed\n",
    "cols = 2 # number of images per row\n",
    "\n",
    "# iterate over each file\n",
    "for i, image_file in enumerate(image_files):\n",
    "    # open image and convert to numpy array\n",
    "    image = Image.open(os.path.join(folder, image_file))\n",
    "    image_array = np.array(image)\n",
    "\n",
    "    # count red and blue pixels\n",
    "    red_pixels, blue_pixels = count_colors(image_array)\n",
    "\n",
    "    # store result\n",
    "    results.append([image_file, red_pixels, blue_pixels])\n",
    "\n",
    "    # display image\n",
    "    fig.add_subplot(len(image_files) // cols + 1, cols, i + 1)\n",
    "    plt.imshow(image_array)\n",
    "    plt.axis('off')  # remove axes for clarity\n",
    "\n",
    "# create a DataFrame\n",
    "df = pd.DataFrame(results, columns=['Image', 'Red Pixels', 'Blue Pixels'])\n",
    "\n",
    "# display the DataFrame\n",
    "df\n"
   ]
  },
  {
   "attachments": {},
   "cell_type": "markdown",
   "metadata": {},
   "source": [
    "## Results\n",
    "\n",
    "The output of 15000 pixels of either red and blue per image is correct! In the next step I will test slightly different color values and see if the algorithm still works."
   ]
  }
 ],
 "metadata": {
  "kernelspec": {
   "display_name": ".venv",
   "language": "python",
   "name": "python3"
  },
  "language_info": {
   "codemirror_mode": {
    "name": "ipython",
    "version": 3
   },
   "file_extension": ".py",
   "mimetype": "text/x-python",
   "name": "python",
   "nbconvert_exporter": "python",
   "pygments_lexer": "ipython3",
   "version": "3.11.1"
  },
  "orig_nbformat": 4
 },
 "nbformat": 4,
 "nbformat_minor": 2
}
