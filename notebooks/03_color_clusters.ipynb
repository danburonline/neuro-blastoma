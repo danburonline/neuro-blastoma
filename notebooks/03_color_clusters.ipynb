{
 "cells": [
  {
   "attachments": {},
   "cell_type": "markdown",
   "metadata": {},
   "source": [
    "# Count colour clusters\n",
    "\n",
    "In this Notebook we will count the number of colour clusters in the image. We will use the Connected Component Labelling (CCL) algorithm to do this."
   ]
  },
  {
   "cell_type": "code",
   "execution_count": 2,
   "metadata": {},
   "outputs": [
    {
     "data": {
      "text/html": [
       "<div>\n",
       "<style scoped>\n",
       "    .dataframe tbody tr th:only-of-type {\n",
       "        vertical-align: middle;\n",
       "    }\n",
       "\n",
       "    .dataframe tbody tr th {\n",
       "        vertical-align: top;\n",
       "    }\n",
       "\n",
       "    .dataframe thead th {\n",
       "        text-align: right;\n",
       "    }\n",
       "</style>\n",
       "<table border=\"1\" class=\"dataframe\">\n",
       "  <thead>\n",
       "    <tr style=\"text-align: right;\">\n",
       "      <th></th>\n",
       "      <th>Image</th>\n",
       "      <th>Red Clusters</th>\n",
       "      <th>Blue Clusters</th>\n",
       "    </tr>\n",
       "  </thead>\n",
       "  <tbody>\n",
       "    <tr>\n",
       "      <th>0</th>\n",
       "      <td>002.png</td>\n",
       "      <td>6</td>\n",
       "      <td>6</td>\n",
       "    </tr>\n",
       "    <tr>\n",
       "      <th>1</th>\n",
       "      <td>003.png</td>\n",
       "      <td>6</td>\n",
       "      <td>6</td>\n",
       "    </tr>\n",
       "    <tr>\n",
       "      <th>2</th>\n",
       "      <td>001.png</td>\n",
       "      <td>6</td>\n",
       "      <td>6</td>\n",
       "    </tr>\n",
       "    <tr>\n",
       "      <th>3</th>\n",
       "      <td>004.png</td>\n",
       "      <td>6</td>\n",
       "      <td>6</td>\n",
       "    </tr>\n",
       "  </tbody>\n",
       "</table>\n",
       "</div>"
      ],
      "text/plain": [
       "     Image  Red Clusters  Blue Clusters\n",
       "0  002.png             6              6\n",
       "1  003.png             6              6\n",
       "2  001.png             6              6\n",
       "3  004.png             6              6"
      ]
     },
     "execution_count": 2,
     "metadata": {},
     "output_type": "execute_result"
    }
   ],
   "source": [
    "from PIL import Image\n",
    "import numpy as np\n",
    "import os\n",
    "import pandas as pd\n",
    "import matplotlib.pyplot as plt\n",
    "from src.count_color_clusters import count_color_clusters\n",
    "\n",
    "folder = '../images/test-images'\n",
    "image_files = [f for f in os.listdir(folder) if os.path.isfile(os.path.join(folder, f))]\n",
    "\n",
    "# create a list to store results\n",
    "results = []\n",
    "\n",
    "# iterate over each file\n",
    "for i, image_file in enumerate(image_files):\n",
    "    # open image and convert to numpy array\n",
    "    image = Image.open(os.path.join(folder, image_file))\n",
    "    image_array = np.array(image)\n",
    "\n",
    "    # count color clusters\n",
    "    red_clusters, blue_clusters = count_color_clusters(image_array)\n",
    "\n",
    "    # store result\n",
    "    results.append([image_file, red_clusters, blue_clusters])\n",
    "\n",
    "# create a DataFrame\n",
    "df = pd.DataFrame(results, columns=['Image', 'Red Clusters', 'Blue Clusters'])\n",
    "\n",
    "# display the DataFrame\n",
    "df\n",
    "\n"
   ]
  },
  {
   "attachments": {},
   "cell_type": "markdown",
   "metadata": {},
   "source": [
    "### Results\n",
    "\n",
    "As one can see it works, correctly counting the number of clusters in the image, which is 6 per color per image."
   ]
  }
 ],
 "metadata": {
  "kernelspec": {
   "display_name": ".venv",
   "language": "python",
   "name": "python3"
  },
  "language_info": {
   "codemirror_mode": {
    "name": "ipython",
    "version": 3
   },
   "file_extension": ".py",
   "mimetype": "text/x-python",
   "name": "python",
   "nbconvert_exporter": "python",
   "pygments_lexer": "ipython3",
   "version": "3.11.1"
  },
  "orig_nbformat": 4
 },
 "nbformat": 4,
 "nbformat_minor": 2
}
