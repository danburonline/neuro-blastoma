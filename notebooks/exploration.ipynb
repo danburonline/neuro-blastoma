{
 "cells": [
  {
   "attachments": {},
   "cell_type": "markdown",
   "metadata": {},
   "source": [
    "# Pixel distribution of the images\n",
    "\n",
    "In this notebook I will explore the distribution of the pixels in the images."
   ]
  },
  {
   "cell_type": "code",
   "execution_count": 8,
   "metadata": {},
   "outputs": [
    {
     "data": {
      "text/plain": [
       "(2048, 2048, 3)"
      ]
     },
     "execution_count": 8,
     "metadata": {},
     "output_type": "execute_result"
    }
   ],
   "source": [
    "from PIL import Image\n",
    "import numpy as np\n",
    "\n",
    "image = Image.open('../images/Pos.Ctrl_well8_II.tif')\n",
    "# image.show() # Show the image in a new window\n",
    "\n",
    "image_array = np.array(image)\n",
    "image_array.shape # Shows the dimensions of the image\n",
    "# image_array.size # Shows the total number of pixels in the image"
   ]
  },
  {
   "cell_type": "code",
   "execution_count": 9,
   "metadata": {},
   "outputs": [
    {
     "name": "stdout",
     "output_type": "stream",
     "text": [
      "Red pixels: 3850\n",
      "Blue pixels: 4409\n"
     ]
    }
   ],
   "source": [
    "def count_colors(image_array):\n",
    "    # Normalise array to 0-1\n",
    "    image_array = image_array / 255.0\n",
    "    red_pixels = ((image_array[..., 0] > 0.5) & (image_array[..., 1] < 0.3) & (image_array[..., 2] < 0.3)).sum()\n",
    "    blue_pixels = ((image_array[..., 0] < 0.3) & (image_array[..., 1] < 0.3) & (image_array[..., 2] > 0.5)).sum()\n",
    "    return red_pixels, blue_pixels\n",
    "\n",
    "red_pixels, blue_pixels = count_colors(image_array)\n",
    "print(f\"Red pixels: {red_pixels}\")\n",
    "print(f\"Blue pixels: {blue_pixels}\")\n"
   ]
  },
  {
   "attachments": {},
   "cell_type": "markdown",
   "metadata": {},
   "source": [
    "## Test with an image with slight more red pixels\n",
    "\n",
    "I added another tiff with 60x60 pixels that are not 100% red."
   ]
  },
  {
   "cell_type": "code",
   "execution_count": 10,
   "metadata": {},
   "outputs": [
    {
     "name": "stdout",
     "output_type": "stream",
     "text": [
      "Red pixels: 7510\n",
      "Blue pixels: 4409\n"
     ]
    }
   ],
   "source": [
    "more_red_image = Image.open('../images/Pos.Ctrl_well8_II_more_red.tif')\n",
    "more_red_image_array = np.array(more_red_image)\n",
    "\n",
    "more_red_pixels, more_blue_pixels = count_colors(more_red_image_array)\n",
    "print(f\"Red pixels: {more_red_pixels}\")\n",
    "print(f\"Blue pixels: {more_blue_pixels}\")\n"
   ]
  }
 ],
 "metadata": {
  "kernelspec": {
   "display_name": ".venv",
   "language": "python",
   "name": "python3"
  },
  "language_info": {
   "codemirror_mode": {
    "name": "ipython",
    "version": 3
   },
   "file_extension": ".py",
   "mimetype": "text/x-python",
   "name": "python",
   "nbconvert_exporter": "python",
   "pygments_lexer": "ipython3",
   "version": "3.11.1"
  },
  "orig_nbformat": 4
 },
 "nbformat": 4,
 "nbformat_minor": 2
}
