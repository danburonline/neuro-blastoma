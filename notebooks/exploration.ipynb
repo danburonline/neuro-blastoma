{
 "cells": [
  {
   "cell_type": "code",
   "execution_count": 11,
   "metadata": {},
   "outputs": [
    {
     "data": {
      "text/plain": [
       "array([[[55, 31, 50],\n",
       "        [44, 29, 46],\n",
       "        [55, 21, 41],\n",
       "        ...,\n",
       "        [26, 14, 30],\n",
       "        [43, 21, 35],\n",
       "        [40, 15, 25]],\n",
       "\n",
       "       [[53, 34, 53],\n",
       "        [42, 29, 49],\n",
       "        [46, 30, 45],\n",
       "        ...,\n",
       "        [38, 15, 28],\n",
       "        [32, 18, 27],\n",
       "        [39, 15, 25]],\n",
       "\n",
       "       [[36, 24, 42],\n",
       "        [74, 43, 60],\n",
       "        [45, 27, 45],\n",
       "        ...,\n",
       "        [35, 26, 44],\n",
       "        [39, 20, 32],\n",
       "        [24, 14, 21]],\n",
       "\n",
       "       ...,\n",
       "\n",
       "       [[44, 17, 32],\n",
       "        [34, 14, 27],\n",
       "        [35, 14, 29],\n",
       "        ...,\n",
       "        [44, 14, 24],\n",
       "        [30, 16, 27],\n",
       "        [27, 15, 28]],\n",
       "\n",
       "       [[43, 17, 27],\n",
       "        [37, 18, 33],\n",
       "        [40, 21, 37],\n",
       "        ...,\n",
       "        [29,  9, 22],\n",
       "        [34, 17, 23],\n",
       "        [43, 15, 28]],\n",
       "\n",
       "       [[51, 14, 25],\n",
       "        [64, 20, 37],\n",
       "        [17,  8, 17],\n",
       "        ...,\n",
       "        [23, 10, 21],\n",
       "        [44, 17, 27],\n",
       "        [44, 15, 28]]], dtype=uint8)"
      ]
     },
     "execution_count": 11,
     "metadata": {},
     "output_type": "execute_result"
    }
   ],
   "source": [
    "from PIL import Image\n",
    "import numpy as np\n",
    "\n",
    "im = Image.open('../images/Pos.Ctrl_well8_II.tif')\n",
    "# im.show()\n",
    "\n",
    "imarray = np.array(im)\n",
    "imarray.shape\n",
    "imarray.size"
   ]
  }
 ],
 "metadata": {
  "kernelspec": {
   "display_name": ".venv",
   "language": "python",
   "name": "python3"
  },
  "language_info": {
   "codemirror_mode": {
    "name": "ipython",
    "version": 3
   },
   "file_extension": ".py",
   "mimetype": "text/x-python",
   "name": "python",
   "nbconvert_exporter": "python",
   "pygments_lexer": "ipython3",
   "version": "3.11.1"
  },
  "orig_nbformat": 4
 },
 "nbformat": 4,
 "nbformat_minor": 2
}
